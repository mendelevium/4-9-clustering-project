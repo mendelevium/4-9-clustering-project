{
 "nbformat": 4,
 "nbformat_minor": 2,
 "metadata": {
  "language_info": {
   "name": "python",
   "codemirror_mode": {
    "name": "ipython",
    "version": 3
   },
   "version": "3.8.3-final"
  },
  "orig_nbformat": 2,
  "file_extension": ".py",
  "mimetype": "text/x-python",
  "name": "python",
  "npconvert_exporter": "python",
  "pygments_lexer": "ipython3",
  "version": 3,
  "kernelspec": {
   "name": "python3",
   "display_name": "Python 3",
   "language": "python"
  }
 },
 "cells": [
  {
   "source": [
    "## Correlation"
   ],
   "cell_type": "markdown",
   "metadata": {}
  },
  {
   "cell_type": "code",
   "execution_count": 142,
   "metadata": {},
   "outputs": [],
   "source": [
    "import pandas as pd\n",
    "import numpy as np\n",
    "import matplotlib.pyplot as plt \n",
    "import seaborn as sns\n",
    "import os\n",
    "import re"
   ]
  },
  {
   "cell_type": "code",
   "execution_count": 143,
   "metadata": {},
   "outputs": [
    {
     "output_type": "execute_result",
     "data": {
      "text/plain": [
       "                         id             name  \\\n",
       "45   LxiwqfN59A1pDdYd7NyJQQ            Biirū   \n",
       "87   l3O2vLmVhuOmpVstrjFlww         KimGalbi   \n",
       "744  IdzpK0S013lbohVhRv1uDw           Padoca   \n",
       "371  ZsrQbYusDGkNqXMnxBhqlQ         Le Falco   \n",
       "280  3XaUuNIOuBhStd4d_-az8w  Casa del Popolo   \n",
       "\n",
       "                                                   url  review_count  \\\n",
       "45   https://www.yelp.com/biz/biir%C5%AB-montr%C3%A9al           176   \n",
       "87     https://www.yelp.com/biz/kimgalbi-montr%C3%A9al            25   \n",
       "744      https://www.yelp.com/biz/padoca-montr%C3%A9al            18   \n",
       "371    https://www.yelp.com/biz/le-falco-montr%C3%A9al            44   \n",
       "280  https://www.yelp.com/biz/casa-del-popolo-montr...            41   \n",
       "\n",
       "                categories  rating   latitude  longitude price  \\\n",
       "45    ['japanese', 'bars']     4.0  45.504916 -73.568651    $$   \n",
       "87              ['korean']     4.5  45.494720 -73.581300   NaN   \n",
       "744  ['cafes', 'cakeshop']     4.5  45.517802 -73.557942     $   \n",
       "371  ['japanese', 'cafes']     4.5  45.528250 -73.597970    $$   \n",
       "280         ['vegetarian']     4.0  45.522230 -73.590520     $   \n",
       "\n",
       "                                              location         phone  \n",
       "45   ['1433 City Councillors', 'Montreal, QC H3A 2E...  1.514903e+10  \n",
       "87   ['2100 Rue Saint-Mathieu', 'Montreal, QC H3H 2...  1.438388e+10  \n",
       "744  ['1440 Rue Amherst', 'Montreal, QC H2L 3L3', '...  1.514439e+10  \n",
       "371  ['5605 Avenue de Gaspé', 'Montreal, QC H2T 2A4...  1.514273e+10  \n",
       "280  ['4873 Boulevard Saint-Laurent', 'Montreal, QC...  1.514284e+10  "
      ],
      "text/html": "<div>\n<style scoped>\n    .dataframe tbody tr th:only-of-type {\n        vertical-align: middle;\n    }\n\n    .dataframe tbody tr th {\n        vertical-align: top;\n    }\n\n    .dataframe thead th {\n        text-align: right;\n    }\n</style>\n<table border=\"1\" class=\"dataframe\">\n  <thead>\n    <tr style=\"text-align: right;\">\n      <th></th>\n      <th>id</th>\n      <th>name</th>\n      <th>url</th>\n      <th>review_count</th>\n      <th>categories</th>\n      <th>rating</th>\n      <th>latitude</th>\n      <th>longitude</th>\n      <th>price</th>\n      <th>location</th>\n      <th>phone</th>\n    </tr>\n  </thead>\n  <tbody>\n    <tr>\n      <th>45</th>\n      <td>LxiwqfN59A1pDdYd7NyJQQ</td>\n      <td>Biirū</td>\n      <td>https://www.yelp.com/biz/biir%C5%AB-montr%C3%A9al</td>\n      <td>176</td>\n      <td>['japanese', 'bars']</td>\n      <td>4.0</td>\n      <td>45.504916</td>\n      <td>-73.568651</td>\n      <td>$$</td>\n      <td>['1433 City Councillors', 'Montreal, QC H3A 2E...</td>\n      <td>1.514903e+10</td>\n    </tr>\n    <tr>\n      <th>87</th>\n      <td>l3O2vLmVhuOmpVstrjFlww</td>\n      <td>KimGalbi</td>\n      <td>https://www.yelp.com/biz/kimgalbi-montr%C3%A9al</td>\n      <td>25</td>\n      <td>['korean']</td>\n      <td>4.5</td>\n      <td>45.494720</td>\n      <td>-73.581300</td>\n      <td>NaN</td>\n      <td>['2100 Rue Saint-Mathieu', 'Montreal, QC H3H 2...</td>\n      <td>1.438388e+10</td>\n    </tr>\n    <tr>\n      <th>744</th>\n      <td>IdzpK0S013lbohVhRv1uDw</td>\n      <td>Padoca</td>\n      <td>https://www.yelp.com/biz/padoca-montr%C3%A9al</td>\n      <td>18</td>\n      <td>['cafes', 'cakeshop']</td>\n      <td>4.5</td>\n      <td>45.517802</td>\n      <td>-73.557942</td>\n      <td>$</td>\n      <td>['1440 Rue Amherst', 'Montreal, QC H2L 3L3', '...</td>\n      <td>1.514439e+10</td>\n    </tr>\n    <tr>\n      <th>371</th>\n      <td>ZsrQbYusDGkNqXMnxBhqlQ</td>\n      <td>Le Falco</td>\n      <td>https://www.yelp.com/biz/le-falco-montr%C3%A9al</td>\n      <td>44</td>\n      <td>['japanese', 'cafes']</td>\n      <td>4.5</td>\n      <td>45.528250</td>\n      <td>-73.597970</td>\n      <td>$$</td>\n      <td>['5605 Avenue de Gaspé', 'Montreal, QC H2T 2A4...</td>\n      <td>1.514273e+10</td>\n    </tr>\n    <tr>\n      <th>280</th>\n      <td>3XaUuNIOuBhStd4d_-az8w</td>\n      <td>Casa del Popolo</td>\n      <td>https://www.yelp.com/biz/casa-del-popolo-montr...</td>\n      <td>41</td>\n      <td>['vegetarian']</td>\n      <td>4.0</td>\n      <td>45.522230</td>\n      <td>-73.590520</td>\n      <td>$</td>\n      <td>['4873 Boulevard Saint-Laurent', 'Montreal, QC...</td>\n      <td>1.514284e+10</td>\n    </tr>\n  </tbody>\n</table>\n</div>"
     },
     "metadata": {},
     "execution_count": 143
    }
   ],
   "source": [
    "biz = pd.read_csv('businesses_mtl.csv')\n",
    "biz.sample(5)"
   ]
  },
  {
   "cell_type": "code",
   "execution_count": 144,
   "metadata": {},
   "outputs": [
    {
     "output_type": "execute_result",
     "data": {
      "text/plain": [
       "                                          user_url   user_name  \\\n",
       "0      /user_details?userid=lxGwbMkC_I9D7GhGT23mFQ  Cynthia L.   \n",
       "1      /user_details?userid=IMHvG_ysz6akYIM-GO18kg   Andrea D.   \n",
       "2      /user_details?userid=DlNz5SxdBYRaZ_pnyIxn6g   Rhonda B.   \n",
       "3      /user_details?userid=gAvuqk1q2uAo2BJzZDLmDQ     Matt M.   \n",
       "4      /user_details?userid=3VLcNOmumPkwuSoQxTBHTw     Marc I.   \n",
       "...                                            ...         ...   \n",
       "64862  /user_details?userid=XEsPq0Kd7Uxq4Guv0Dj6Wg   Nicole R.   \n",
       "64863  /user_details?userid=S_sIeCOqy7F4RFs0le1cDQ     Joel S.   \n",
       "64864  /user_details?userid=tEZsTQEkZSK0RMjYZoZzZA     Hani A.   \n",
       "64865  /user_details?userid=z5xzL1Zl5iiHLuOqn07CLg        E T.   \n",
       "64866  /user_details?userid=MAnxtA80ZCOHsQVn70KFeg      Kim D.   \n",
       "\n",
       "                                     user_city  user_rating  \\\n",
       "0                Ville-Marie, Montreal, Canada            5   \n",
       "1      Le Plateau-Mont-Royal, Montreal, Canada            5   \n",
       "2                             Montreal, Canada            5   \n",
       "3                            Oklahoma City, OK            5   \n",
       "4                                 Ajax, Canada            5   \n",
       "...                                        ...          ...   \n",
       "64862                         Montreal, Canada            2   \n",
       "64863                          Los Angeles, CA            5   \n",
       "64864                     Le Sud-Ouest, Canada            3   \n",
       "64865                           Ottawa, Canada            5   \n",
       "64866                         Montreal, Canada            4   \n",
       "\n",
       "                                             user_review  \\\n",
       "0      Went here pre-covid with my bf and best friend...   \n",
       "1      *home delivery review* Amazing. Literally tast...   \n",
       "2      I must add a disclaimer to this review since I...   \n",
       "3      One of my favorite Quebecois institutions!No t...   \n",
       "4      Is there anything better that a true Smoked me...   \n",
       "...                                                  ...   \n",
       "64862  Such a disappointing experience!! Went to Raso...   \n",
       "64863  Delicious food, tasty cocktails, reasonably pr...   \n",
       "64864  rating for new terrace, too much noise coming ...   \n",
       "64865  Staff were friendly and helpful. The food was ...   \n",
       "64866  i was very happy with this place. the food was...   \n",
       "\n",
       "                       biz_id  \n",
       "0      0W4lkclzZThpx3V65bVgig  \n",
       "1      0W4lkclzZThpx3V65bVgig  \n",
       "2      0W4lkclzZThpx3V65bVgig  \n",
       "3      0W4lkclzZThpx3V65bVgig  \n",
       "4      0W4lkclzZThpx3V65bVgig  \n",
       "...                       ...  \n",
       "64862  pJrM4yAZo0Gs63D9UCyCSQ  \n",
       "64863  pJrM4yAZo0Gs63D9UCyCSQ  \n",
       "64864  pJrM4yAZo0Gs63D9UCyCSQ  \n",
       "64865  pJrM4yAZo0Gs63D9UCyCSQ  \n",
       "64866  pJrM4yAZo0Gs63D9UCyCSQ  \n",
       "\n",
       "[64867 rows x 6 columns]"
      ],
      "text/html": "<div>\n<style scoped>\n    .dataframe tbody tr th:only-of-type {\n        vertical-align: middle;\n    }\n\n    .dataframe tbody tr th {\n        vertical-align: top;\n    }\n\n    .dataframe thead th {\n        text-align: right;\n    }\n</style>\n<table border=\"1\" class=\"dataframe\">\n  <thead>\n    <tr style=\"text-align: right;\">\n      <th></th>\n      <th>user_url</th>\n      <th>user_name</th>\n      <th>user_city</th>\n      <th>user_rating</th>\n      <th>user_review</th>\n      <th>biz_id</th>\n    </tr>\n  </thead>\n  <tbody>\n    <tr>\n      <th>0</th>\n      <td>/user_details?userid=lxGwbMkC_I9D7GhGT23mFQ</td>\n      <td>Cynthia L.</td>\n      <td>Ville-Marie, Montreal, Canada</td>\n      <td>5</td>\n      <td>Went here pre-covid with my bf and best friend...</td>\n      <td>0W4lkclzZThpx3V65bVgig</td>\n    </tr>\n    <tr>\n      <th>1</th>\n      <td>/user_details?userid=IMHvG_ysz6akYIM-GO18kg</td>\n      <td>Andrea D.</td>\n      <td>Le Plateau-Mont-Royal, Montreal, Canada</td>\n      <td>5</td>\n      <td>*home delivery review* Amazing. Literally tast...</td>\n      <td>0W4lkclzZThpx3V65bVgig</td>\n    </tr>\n    <tr>\n      <th>2</th>\n      <td>/user_details?userid=DlNz5SxdBYRaZ_pnyIxn6g</td>\n      <td>Rhonda B.</td>\n      <td>Montreal, Canada</td>\n      <td>5</td>\n      <td>I must add a disclaimer to this review since I...</td>\n      <td>0W4lkclzZThpx3V65bVgig</td>\n    </tr>\n    <tr>\n      <th>3</th>\n      <td>/user_details?userid=gAvuqk1q2uAo2BJzZDLmDQ</td>\n      <td>Matt M.</td>\n      <td>Oklahoma City, OK</td>\n      <td>5</td>\n      <td>One of my favorite Quebecois institutions!No t...</td>\n      <td>0W4lkclzZThpx3V65bVgig</td>\n    </tr>\n    <tr>\n      <th>4</th>\n      <td>/user_details?userid=3VLcNOmumPkwuSoQxTBHTw</td>\n      <td>Marc I.</td>\n      <td>Ajax, Canada</td>\n      <td>5</td>\n      <td>Is there anything better that a true Smoked me...</td>\n      <td>0W4lkclzZThpx3V65bVgig</td>\n    </tr>\n    <tr>\n      <th>...</th>\n      <td>...</td>\n      <td>...</td>\n      <td>...</td>\n      <td>...</td>\n      <td>...</td>\n      <td>...</td>\n    </tr>\n    <tr>\n      <th>64862</th>\n      <td>/user_details?userid=XEsPq0Kd7Uxq4Guv0Dj6Wg</td>\n      <td>Nicole R.</td>\n      <td>Montreal, Canada</td>\n      <td>2</td>\n      <td>Such a disappointing experience!! Went to Raso...</td>\n      <td>pJrM4yAZo0Gs63D9UCyCSQ</td>\n    </tr>\n    <tr>\n      <th>64863</th>\n      <td>/user_details?userid=S_sIeCOqy7F4RFs0le1cDQ</td>\n      <td>Joel S.</td>\n      <td>Los Angeles, CA</td>\n      <td>5</td>\n      <td>Delicious food, tasty cocktails, reasonably pr...</td>\n      <td>pJrM4yAZo0Gs63D9UCyCSQ</td>\n    </tr>\n    <tr>\n      <th>64864</th>\n      <td>/user_details?userid=tEZsTQEkZSK0RMjYZoZzZA</td>\n      <td>Hani A.</td>\n      <td>Le Sud-Ouest, Canada</td>\n      <td>3</td>\n      <td>rating for new terrace, too much noise coming ...</td>\n      <td>pJrM4yAZo0Gs63D9UCyCSQ</td>\n    </tr>\n    <tr>\n      <th>64865</th>\n      <td>/user_details?userid=z5xzL1Zl5iiHLuOqn07CLg</td>\n      <td>E T.</td>\n      <td>Ottawa, Canada</td>\n      <td>5</td>\n      <td>Staff were friendly and helpful. The food was ...</td>\n      <td>pJrM4yAZo0Gs63D9UCyCSQ</td>\n    </tr>\n    <tr>\n      <th>64866</th>\n      <td>/user_details?userid=MAnxtA80ZCOHsQVn70KFeg</td>\n      <td>Kim D.</td>\n      <td>Montreal, Canada</td>\n      <td>4</td>\n      <td>i was very happy with this place. the food was...</td>\n      <td>pJrM4yAZo0Gs63D9UCyCSQ</td>\n    </tr>\n  </tbody>\n</table>\n<p>64867 rows × 6 columns</p>\n</div>"
     },
     "metadata": {},
     "execution_count": 144
    }
   ],
   "source": [
    "df = pd.read_csv('yelp_reviews_mtl.csv')\n",
    "df"
   ]
  },
  {
   "cell_type": "code",
   "execution_count": 145,
   "metadata": {},
   "outputs": [],
   "source": [
    "def get_sentences(text, words):\n",
    "    # take text and test every sentences for a list of words\n",
    "    # if any word fromt the list in a sentence, join thoses sentenses into a list\n",
    "    #return [sentence + '.' for sentence in x.split('.') if word in sentence]\n",
    "    return [sentence + '.' for sentence in text.split('.') if any(w in sentence for w in words)]"
   ]
  },
  {
   "cell_type": "code",
   "execution_count": 146,
   "metadata": {},
   "outputs": [
    {
     "output_type": "stream",
     "name": "stderr",
     "text": [
      "[nltk_data] Downloading package vader_lexicon to\n[nltk_data]     C:\\Users\\user\\AppData\\Roaming\\nltk_data...\n[nltk_data]   Package vader_lexicon is already up-to-date!\n"
     ]
    }
   ],
   "source": [
    "import statsmodels.api as sm\n",
    "import statistics\n",
    "import nltk\n",
    "nltk.download('vader_lexicon')\n",
    "\n",
    "from nltk.sentiment.vader import SentimentIntensityAnalyzer\n",
    "sid = SentimentIntensityAnalyzer()"
   ]
  },
  {
   "cell_type": "code",
   "execution_count": 147,
   "metadata": {},
   "outputs": [],
   "source": [
    "def get_sentences(text, words):\n",
    "    # take text and test every sentences for a list of words\n",
    "    # if any word fromt the list in a sentence, join thoses sentenses into a list\n",
    "    #return [sentence + '.' for sentence in x.split('.') if word in sentence]\n",
    "    return [sentence + '.' for sentence in text.split('.') if any(w in sentence for w in words)]"
   ]
  },
  {
   "cell_type": "code",
   "execution_count": 149,
   "metadata": {},
   "outputs": [
    {
     "output_type": "stream",
     "name": "stdout",
     "text": [
      "food - R-squared: 0.240, coef: 1.710, p-value : 0.000\n",
      "service - R-squared: 0.209, coef: 1.322, p-value : 0.000\n",
      "value - R-squared: 0.138, coef: 1.158, p-value : 0.000\n",
      "experience - R-squared: 0.268, coef: 1.354, p-value : 0.000\n",
      "clean - R-squared: 0.321, coef: 1.524, p-value : 0.000\n"
     ]
    }
   ],
   "source": [
    "food = ['food','taste','tasty','delicious','best','fresh','cold','hot','disgusting','dry']\n",
    "service = ['service','staff','friendly','fast','quick','slow','wait','polite','rude']\n",
    "value = ['value','price','portion','size','expensive','overpriced','affordable','reasonable']\n",
    "experience = ['experience','ambiance','atmosphere','noise','noisy','mood','crowd']\n",
    "clean = ['clean','dirty','filthy','gross','bathroom']\n",
    "\n",
    "features = [food, service, value, experience, clean]\n",
    "\n",
    "for f in features:\n",
    "\n",
    "    words = f\n",
    "    # get sentences containing a topic (feature)\n",
    "    df[f[0]] = df['user_review'].apply(lambda x: get_sentences(x, words))\n",
    "    # keep businesses with sentences\n",
    "    review = df[['biz_id', 'user_rating', f[0]]].loc[df[f[0]].map(lambda d: len(d)) > 0]\n",
    "    # apply sentiment analysis on sentences (calc the mean if more than one)\n",
    "    review['sentiment'] = review[f[0]].apply(lambda l: statistics.mean([sid.polarity_scores(e)['compound'] for e in l]) )\n",
    "    # average the sentiment by businesses\n",
    "    rel = review.groupby(by='biz_id').mean().sort_values('sentiment', ascending=False)\n",
    "\n",
    "    y = rel['user_rating']\n",
    "    x = rel['sentiment']\n",
    "    #y = review['user_rating']\n",
    "    #x = review['sentiment']\n",
    "\n",
    "    model = sm.OLS(y,sm.add_constant(x))\n",
    "    results = model.fit(cov_type='HC2')\n",
    "    #print(results.summary())\n",
    "    print(f'{f[0]} - R-squared: {results.rsquared:.3f}, coef: {results.params[\"sentiment\"]:.3f}, p-value : {results.pvalues[\"sentiment\"]:.3f}')"
   ]
  },
  {
   "cell_type": "code",
   "execution_count": 150,
   "metadata": {},
   "outputs": [],
   "source": [
    "def get_best(df, food):\n",
    "    df[food] = df['user_review'].apply(lambda x: get_sentences(x, [food]))\n",
    "    review = df[['biz_id', 'user_rating', food]].loc[df[food].map(lambda d: len(d)) > 0]\n",
    "    review['sentiment'] = review[food].apply(lambda l: statistics.mean([sid.polarity_scores(e)['compound'] for e in l]) )\n",
    "    avg_sent = review.groupby(by='biz_id').mean().sort_values('sentiment', ascending=False)\n",
    "    top = pd.merge(avg_sent, biz[['id', 'name', 'review_count', 'rating', 'price', 'location']], left_on='biz_id', right_on='id')\n",
    "    return top"
   ]
  },
  {
   "cell_type": "code",
   "execution_count": 152,
   "metadata": {},
   "outputs": [
    {
     "output_type": "execute_result",
     "data": {
      "text/plain": [
       "   user_rating  sentiment                      id                  name  \\\n",
       "0          5.0     0.9872  _0KxeZoaK_ImMeyhbdG11A                Nevski   \n",
       "1          5.0     0.9782  8Utj3HIQ_Ma_uE8px-7nQg          Veuve Chalet   \n",
       "2          4.0     0.9730  sKlZhq3Ag3lfLFNx9HsSUg                  Amir   \n",
       "3          5.0     0.9606  kfDtfA0dPm3rNl0ztSop1Q             L'Inconnu   \n",
       "4          5.0     0.9569  ayCo510gQ9zDt-HijqYhQA           Bowhead Pub   \n",
       "5          4.0     0.9236  LSPwq3J4WDHh6q3Cu0uMog           Régine Café   \n",
       "6          4.5     0.8891  Ok9vikKusbG_Ue9pJf6s3Q      La Capital Tacos   \n",
       "7          5.0     0.8885  wBXIdxs2XKqt9Q-r5-ik9w             Bulma Bar   \n",
       "8          5.0     0.8881  JN8s_dgw9nrSzkHnXxNOtg  Dinette Triple Crown   \n",
       "9          4.0     0.8221  DLRpQJ6UtoQswcWpQGS7Sg   La Maison du Magret   \n",
       "\n",
       "   review_count  rating price  \\\n",
       "0             7     4.0   NaN   \n",
       "1            11     4.5   NaN   \n",
       "2            13     4.5    $$   \n",
       "3            16     4.0   NaN   \n",
       "4            18     4.0   NaN   \n",
       "5           277     4.5    $$   \n",
       "6           288     4.0    $$   \n",
       "7            13     4.5   NaN   \n",
       "8           254     4.5    $$   \n",
       "9            47     4.5   $$$   \n",
       "\n",
       "                                            location  \n",
       "0  ['1228 Rue Stanley', 'Montreal, QC H3B 2S7', '...  \n",
       "1  ['222 Avenue Laurier O', 'Montreal, QC H2T 2N8...  \n",
       "2  ['1337 Avenue du Mont-Royal E', 'Montreal, QC ...  \n",
       "3  ['5115 Boulevard Saint-Laurent', 'Montreal, QC...  \n",
       "4  ['3723 Boulevard Saint-Laurent', 'Montreal, QC...  \n",
       "5  ['1840 Beaubien E', 'Montreal, QC H1G 2L6', 'C...  \n",
       "6  ['1096 Boulevard Saint-Laurent', 'Montreal, QC...  \n",
       "7  ['686 Rue Notre-Dame O', 'Montreal, QC H3C 1J2...  \n",
       "8  ['6704 Rue Clark', 'Montreal, QC H2S 3G2', 'Ca...  \n",
       "9  ['102 Rue Saint-Antoine O', 'Montreal, QC H2Y ...  "
      ],
      "text/html": "<div>\n<style scoped>\n    .dataframe tbody tr th:only-of-type {\n        vertical-align: middle;\n    }\n\n    .dataframe tbody tr th {\n        vertical-align: top;\n    }\n\n    .dataframe thead th {\n        text-align: right;\n    }\n</style>\n<table border=\"1\" class=\"dataframe\">\n  <thead>\n    <tr style=\"text-align: right;\">\n      <th></th>\n      <th>user_rating</th>\n      <th>sentiment</th>\n      <th>id</th>\n      <th>name</th>\n      <th>review_count</th>\n      <th>rating</th>\n      <th>price</th>\n      <th>location</th>\n    </tr>\n  </thead>\n  <tbody>\n    <tr>\n      <th>0</th>\n      <td>5.0</td>\n      <td>0.9872</td>\n      <td>_0KxeZoaK_ImMeyhbdG11A</td>\n      <td>Nevski</td>\n      <td>7</td>\n      <td>4.0</td>\n      <td>NaN</td>\n      <td>['1228 Rue Stanley', 'Montreal, QC H3B 2S7', '...</td>\n    </tr>\n    <tr>\n      <th>1</th>\n      <td>5.0</td>\n      <td>0.9782</td>\n      <td>8Utj3HIQ_Ma_uE8px-7nQg</td>\n      <td>Veuve Chalet</td>\n      <td>11</td>\n      <td>4.5</td>\n      <td>NaN</td>\n      <td>['222 Avenue Laurier O', 'Montreal, QC H2T 2N8...</td>\n    </tr>\n    <tr>\n      <th>2</th>\n      <td>4.0</td>\n      <td>0.9730</td>\n      <td>sKlZhq3Ag3lfLFNx9HsSUg</td>\n      <td>Amir</td>\n      <td>13</td>\n      <td>4.5</td>\n      <td>$$</td>\n      <td>['1337 Avenue du Mont-Royal E', 'Montreal, QC ...</td>\n    </tr>\n    <tr>\n      <th>3</th>\n      <td>5.0</td>\n      <td>0.9606</td>\n      <td>kfDtfA0dPm3rNl0ztSop1Q</td>\n      <td>L'Inconnu</td>\n      <td>16</td>\n      <td>4.0</td>\n      <td>NaN</td>\n      <td>['5115 Boulevard Saint-Laurent', 'Montreal, QC...</td>\n    </tr>\n    <tr>\n      <th>4</th>\n      <td>5.0</td>\n      <td>0.9569</td>\n      <td>ayCo510gQ9zDt-HijqYhQA</td>\n      <td>Bowhead Pub</td>\n      <td>18</td>\n      <td>4.0</td>\n      <td>NaN</td>\n      <td>['3723 Boulevard Saint-Laurent', 'Montreal, QC...</td>\n    </tr>\n    <tr>\n      <th>5</th>\n      <td>4.0</td>\n      <td>0.9236</td>\n      <td>LSPwq3J4WDHh6q3Cu0uMog</td>\n      <td>Régine Café</td>\n      <td>277</td>\n      <td>4.5</td>\n      <td>$$</td>\n      <td>['1840 Beaubien E', 'Montreal, QC H1G 2L6', 'C...</td>\n    </tr>\n    <tr>\n      <th>6</th>\n      <td>4.5</td>\n      <td>0.8891</td>\n      <td>Ok9vikKusbG_Ue9pJf6s3Q</td>\n      <td>La Capital Tacos</td>\n      <td>288</td>\n      <td>4.0</td>\n      <td>$$</td>\n      <td>['1096 Boulevard Saint-Laurent', 'Montreal, QC...</td>\n    </tr>\n    <tr>\n      <th>7</th>\n      <td>5.0</td>\n      <td>0.8885</td>\n      <td>wBXIdxs2XKqt9Q-r5-ik9w</td>\n      <td>Bulma Bar</td>\n      <td>13</td>\n      <td>4.5</td>\n      <td>NaN</td>\n      <td>['686 Rue Notre-Dame O', 'Montreal, QC H3C 1J2...</td>\n    </tr>\n    <tr>\n      <th>8</th>\n      <td>5.0</td>\n      <td>0.8881</td>\n      <td>JN8s_dgw9nrSzkHnXxNOtg</td>\n      <td>Dinette Triple Crown</td>\n      <td>254</td>\n      <td>4.5</td>\n      <td>$$</td>\n      <td>['6704 Rue Clark', 'Montreal, QC H2S 3G2', 'Ca...</td>\n    </tr>\n    <tr>\n      <th>9</th>\n      <td>4.0</td>\n      <td>0.8221</td>\n      <td>DLRpQJ6UtoQswcWpQGS7Sg</td>\n      <td>La Maison du Magret</td>\n      <td>47</td>\n      <td>4.5</td>\n      <td>$$$</td>\n      <td>['102 Rue Saint-Antoine O', 'Montreal, QC H2Y ...</td>\n    </tr>\n  </tbody>\n</table>\n</div>"
     },
     "metadata": {},
     "execution_count": 152
    }
   ],
   "source": [
    "# search for any topic of keywords which businesses have the most positive sentiment for that topic\n",
    "tmp = get_best(df, 'poutine')[0:10]\n",
    "tmp"
   ]
  },
  {
   "cell_type": "code",
   "execution_count": null,
   "metadata": {},
   "outputs": [],
   "source": []
  }
 ]
}