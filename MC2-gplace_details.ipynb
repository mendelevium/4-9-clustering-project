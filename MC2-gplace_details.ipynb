{
 "cells": [
  {
   "cell_type": "markdown",
   "metadata": {},
   "source": [
    "<a href = https://developers.google.com/maps/documentation/places/web-service/details#PlaceDetailsRequests ><h1>Data Extraction From GOOGLE Place Details API</h1></a>"
   ]
  },
  {
   "cell_type": "code",
   "execution_count": 1,
   "metadata": {},
   "outputs": [],
   "source": [
    "import requests\n",
    "import json\n",
    "import pandas as pd\n",
    "import numpy as np\n",
    "import time\n"
   ]
  },
  {
   "cell_type": "code",
   "execution_count": 2,
   "metadata": {},
   "outputs": [],
   "source": [
    "apiKey = #INSERT APIKEY"
   ]
  },
  {
   "cell_type": "markdown",
   "metadata": {},
   "source": [
    "<h2>Functions</h2>"
   ]
  },
  {
   "cell_type": "code",
   "execution_count": 3,
   "metadata": {},
   "outputs": [],
   "source": [
    "def make_request_place_details(inputs):\n",
    "\n",
    "    PLACE_ID = 'place_id='+inputs['PLACE_ID']\n",
    "    FIELDS = 'fields='+','.join(inputs['FIELDS'])\n",
    "    url = f'https://maps.googleapis.com/maps/api/place/details/json?{PLACE_ID}&{FIELDS}&key={apiKey}'\n",
    "    r = requests.get(url)\n",
    "    j = json.loads(r.text)\n",
    "    \n",
    "    return j"
   ]
  },
  {
   "cell_type": "code",
   "execution_count": 10,
   "metadata": {},
   "outputs": [],
   "source": [
    "def create_dictionaries_place_details(j):\n",
    "    \n",
    "    results = j['result']\n",
    "    d_details = {param : [] for param in ['place_id', 'name', 'formatted_phone_number','opening_hours', 'website']}\n",
    "    \n",
    "    if results.get('reviews'):\n",
    "        reviews = results['reviews']\n",
    "        num_reviews = len(reviews)\n",
    "\n",
    "        d_reviews = {param : [] for param in ['place_id', 'name', 'text', 'author_name', 'author_url', 'language', 'rating', 'relative_time_description', 'time', 'profile_photo_url']}\n",
    " \n",
    "\n",
    "        for i in range(num_reviews):\n",
    "            review = reviews[i]\n",
    "            for param in d_reviews.keys():\n",
    "                if param == 'place_id':\n",
    "                    data_to_store = results['place_id']\n",
    "                elif param == 'name':\n",
    "                    data_to_store = results['name']\n",
    "                elif review.get(param):\n",
    "                    data_to_store = review[param]\n",
    "                else:\n",
    "                    data_to_store = None\n",
    "                d_reviews[param].append(data_to_store)\n",
    "    else:\n",
    "        d_reviews = None\n",
    "        \n",
    "    for param in d_details.keys():        \n",
    "        if results.get(param):\n",
    "            data_to_store = results[param]\n",
    "        else:\n",
    "            data_to_store = None\n",
    "        d_details[param].append(data_to_store)\n",
    "    \n",
    "    return d_reviews, d_details"
   ]
  },
  {
   "cell_type": "code",
   "execution_count": 11,
   "metadata": {},
   "outputs": [],
   "source": [
    "def create_dataframe_place_details(inputs):\n",
    "    PLACE_IDS = inputs.copy()\n",
    "    PARAMS = {\n",
    "        'PLACE_ID' : None,\n",
    "        'FIELDS': [\n",
    "                  'name',\n",
    "                  'place_id',\n",
    "                  'rating', \n",
    "                  'formatted_phone_number',\n",
    "                  'opening_hours',\n",
    "                  'reviews',\n",
    "                  'website']\n",
    "    }\n",
    "    dfs_reviews = []\n",
    "    dfs_details = []\n",
    "    for p_id in PLACE_IDS:\n",
    "        PARAMS['PLACE_ID'] = p_id\n",
    "        j = make_request_place_details(PARAMS)\n",
    "        d_reviews, d_details = create_dictionaries_place_details(j)\n",
    "        dfs_reviews.append(pd.DataFrame(d_reviews))\n",
    "        dfs_details.append(pd.DataFrame(d_details))\n",
    "        \n",
    "    df_reviews_merge = pd.concat(dfs_reviews, ignore_index=True)\n",
    "    df_details_merge = pd.concat(dfs_details, ignore_index=True)\n",
    "    return df_reviews_merge, df_details_merge"
   ]
  },
  {
   "cell_type": "markdown",
   "metadata": {},
   "source": [
    "<h2>Input Parameters</h2>"
   ]
  },
  {
   "cell_type": "code",
   "execution_count": null,
   "metadata": {},
   "outputs": [],
   "source": [
    "df = pd.read_csv('data/data_place.csv')\n",
    "df = df.drop_duplicates(subset = ['place_id'])\n",
    "place_ids = list(df['place_id'])\n",
    "num_batches = 10\n",
    "bounds = np.linspace(0,len(place_ids), num_batches+1).astype(int)\n",
    "\n",
    "dfs_reviews = []\n",
    "dfs_details = []\n",
    "for i in range(num_batches):\n",
    "    INPUT = place_ids[bounds[i]: bounds[i+1]]\n",
    "    df_r, df_d = create_dataframe_place_details(INPUT)\n",
    "    dfs_reviews.append(df_r)\n",
    "    dfs_details.append(df_d)\n",
    "    file_reviews = f'data_reviews_{i}.csv'\n",
    "    file_details = f'data_details_{i}.csv'\n",
    "    df_r.to_csv(file_reviews)\n",
    "    df_d.to_csv(file_details)\n",
    "\n",
    "df_reviews = pd.concat(dfs_reviews, ignore_index=True)\n",
    "df_details = pd.concat(dfs_details, ignore_index=True)"
   ]
  },
  {
   "cell_type": "markdown",
   "metadata": {},
   "source": [
    "<h2>Dataframe Reviews</h2>"
   ]
  },
  {
   "cell_type": "code",
   "execution_count": null,
   "metadata": {
    "scrolled": true
   },
   "outputs": [],
   "source": [
    "df_reviews"
   ]
  },
  {
   "cell_type": "markdown",
   "metadata": {},
   "source": [
    "<h2>Dataframe details</h2>"
   ]
  },
  {
   "cell_type": "code",
   "execution_count": null,
   "metadata": {},
   "outputs": [],
   "source": [
    "df_details"
   ]
  },
  {
   "cell_type": "markdown",
   "metadata": {},
   "source": [
    "<h2>Dataframe to csv</h2>"
   ]
  },
  {
   "cell_type": "code",
   "execution_count": null,
   "metadata": {},
   "outputs": [],
   "source": [
    "df_reviews.to_csv('data/data_reviews.csv')\n",
    "df_details.to_csv('data/data_details.csv')"
   ]
  },
  {
   "cell_type": "code",
   "execution_count": null,
   "metadata": {},
   "outputs": [],
   "source": []
  },
  {
   "cell_type": "code",
   "execution_count": null,
   "metadata": {},
   "outputs": [],
   "source": []
  }
 ],
 "metadata": {
  "kernelspec": {
   "display_name": "Python 3",
   "language": "python",
   "name": "python3"
  },
  "language_info": {
   "codemirror_mode": {
    "name": "ipython",
    "version": 3
   },
   "file_extension": ".py",
   "mimetype": "text/x-python",
   "name": "python",
   "nbconvert_exporter": "python",
   "pygments_lexer": "ipython3",
   "version": "3.8.5"
  }
 },
 "nbformat": 4,
 "nbformat_minor": 4
}