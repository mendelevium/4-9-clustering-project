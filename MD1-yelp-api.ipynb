{
 "nbformat": 4,
 "nbformat_minor": 2,
 "metadata": {
  "language_info": {
   "name": "python",
   "codemirror_mode": {
    "name": "ipython",
    "version": 3
   },
   "version": "3.8.3-final"
  },
  "orig_nbformat": 2,
  "file_extension": ".py",
  "mimetype": "text/x-python",
  "name": "python",
  "npconvert_exporter": "python",
  "pygments_lexer": "ipython3",
  "version": 3,
  "kernelspec": {
   "name": "python3",
   "display_name": "Python 3",
   "language": "python"
  }
 },
 "cells": [
  {
   "source": [
    "## Yelp API"
   ],
   "cell_type": "markdown",
   "metadata": {}
  },
  {
   "cell_type": "code",
   "execution_count": 2,
   "metadata": {},
   "outputs": [],
   "source": [
    "import requests\n",
    "import json\n",
    "import pandas as pd\n",
    "import numpy as np\n",
    "from bs4 import BeautifulSoup\n",
    "import matplotlib.pyplot as plt\n",
    "import re\n",
    "import time\n",
    "import random as ran"
   ]
  },
  {
   "cell_type": "code",
   "execution_count": 100,
   "metadata": {},
   "outputs": [],
   "source": [
    "clientId = 'YOUR_CLIENT_ID'\n",
    "apiKey = 'YOUR_API_KEY'\n",
    "\n",
    "headers = {'Authorization': 'Bearer %s' % apiKey}"
   ]
  },
  {
   "cell_type": "code",
   "execution_count": 101,
   "metadata": {},
   "outputs": [
    {
     "output_type": "stream",
     "name": "stdout",
     "text": [
      "200\n"
     ]
    }
   ],
   "source": [
    "# request businesses\n",
    "offset = 0\n",
    "url='https://api.yelp.com/v3/businesses/search'\n",
    "params = {'term':'restaurant','location':'Montreal, QC','limit':10, 'offset':offset}\n",
    "r = requests.get(url, headers=headers, params=params)\n",
    "j = json.loads(r.text)\n",
    "print(r.status_code)"
   ]
  },
  {
   "cell_type": "code",
   "execution_count": 1,
   "metadata": {},
   "outputs": [],
   "source": [
    "#j['businesses'][0]"
   ]
  },
  {
   "cell_type": "code",
   "execution_count": 103,
   "metadata": {},
   "outputs": [],
   "source": [
    "url='https://api.yelp.com/v3/businesses/search'\n",
    "offset = 0\n",
    "df = pd.DataFrame()\n",
    "\n",
    "# catch errors for missing data\n",
    "def catch(func, handle=lambda e : e, *args, **kwargs):\n",
    "    try:\n",
    "        return func(*args, **kwargs)\n",
    "    except Exception as e:\n",
    "        return np.nan\n",
    "\n",
    "# unpack a list of dict\n",
    "def unpack(e):\n",
    "    try:\n",
    "        return [ _['alias'] for _ in e ]\n",
    "    except Exception as e:\n",
    "        return np.nan\n",
    "\n",
    "while offset < 1000:\n",
    "    params = params = {'term':'restaurant','location':'Montreal, QC','limit':50, 'offset':offset} \n",
    "    r = requests.get(url, headers=headers, params=params)\n",
    "    j = json.loads(r.text)\n",
    "    b = j['businesses']\n",
    "\n",
    "    biz = {}\n",
    "    biz['id'] = [ catch(lambda : e['id']) for e in b ]\n",
    "    biz['name'] = [ catch(lambda : e['name']) for e in b ]\n",
    "    biz['url'] = [ catch(lambda : e['url'].split('?')[0]) for e in b ]\n",
    "    biz['review_count'] = [ catch(lambda : e['review_count']) for e in b ]\n",
    "    biz['categories'] = [ unpack(e['categories']) for e in b ]\n",
    "    biz['rating'] = [ catch(lambda : e['rating']) for e in b ]\n",
    "    biz['latitude'] = [ catch(lambda : e['coordinates']['latitude']) for e in b ]\n",
    "    biz['longitude'] = [ catch(lambda : e['coordinates']['longitude']) for e in b ]\n",
    "    biz['price'] = [ catch(lambda : e['price']) for e in b ]\n",
    "    biz['location'] = [ catch(lambda : e['location']['display_address']) for e in b ]\n",
    "    biz['phone'] = [ catch(lambda : e['phone']) for e in b ]\n",
    "    offset += 50\n",
    "    #print(offset)\n",
    "    df = pd.concat([df, pd.DataFrame.from_dict(biz)])\n"
   ]
  },
  {
   "cell_type": "code",
   "execution_count": 3,
   "metadata": {},
   "outputs": [
    {
     "output_type": "execute_result",
     "data": {
      "text/plain": [
       "                         id               name  \\\n",
       "0    0W4lkclzZThpx3V65bVgig         Schwartz's   \n",
       "9    5T6kFKFycym_GkhgOiysIw        La Banquise   \n",
       "10   46Ld9Qc9nAx_A0jwclNZiw  Olive & Gourmando   \n",
       "11   cKdox2gt3L1Dbb7MpOPdWg  Au Pied de Cochon   \n",
       "8    J6qWt6XIUmIGFHX5rQJA-w           L'Avenue   \n",
       "..                      ...                ...   \n",
       "539  sY0wyjh9-aMXaldNhJrP4w        Impac iTaco   \n",
       "281  lo51FO4rKbMFBPKngoUvJw       Place Tevere   \n",
       "543  c7B5OHwqAJSu8QZQdLQ-Mg     La Belle Tonki   \n",
       "554  HRvuIWsjuYK6ZptATC2O1A        Caffettiera   \n",
       "228  nchwYJfD3tYup2flK5NhsA      Fugazzi Pizza   \n",
       "\n",
       "                                                   url  review_count  \\\n",
       "0    https://www.yelp.com/biz/schwartzs-montr%C3%A9...          2697   \n",
       "9    https://www.yelp.com/biz/la-banquise-montr%C3%...          1957   \n",
       "10   https://www.yelp.com/biz/olive-and-gourmando-m...          1401   \n",
       "11   https://www.yelp.com/biz/au-pied-de-cochon-mon...          1288   \n",
       "8      https://www.yelp.com/biz/l-avenue-montr%C3%A9al          1150   \n",
       "..                                                 ...           ...   \n",
       "539  https://www.yelp.com/biz/impac-itaco-montr%C3%...             1   \n",
       "281  https://www.yelp.com/biz/place-tevere-montr%C3...             1   \n",
       "543  https://www.yelp.com/biz/la-belle-tonki-montr%...             1   \n",
       "554  https://www.yelp.com/biz/caffettiera-montr%C3%...             1   \n",
       "228  https://www.yelp.com/biz/fugazzi-pizza-montr%C...             1   \n",
       "\n",
       "                             categories  rating   latitude  longitude price  \\\n",
       "0               ['delis', 'sandwiches']     4.0  45.516353 -73.577642    $$   \n",
       "9                       ['poutineries']     4.0  45.525354 -73.574769    $$   \n",
       "10   ['sandwiches', 'breakfast_brunch']     4.5  45.501197 -73.556475    $$   \n",
       "11                      ['newcanadian']     4.0  45.522169 -73.574450   $$$   \n",
       "8                  ['breakfast_brunch']     4.5  45.526678 -73.580239    $$   \n",
       "..                                  ...     ...        ...        ...   ...   \n",
       "539                         ['mexican']     4.0  45.500934 -73.573768   NaN   \n",
       "281                         ['italian']     5.0  45.499937 -73.565486    $$   \n",
       "543                      ['vietnamese']     5.0  45.540660 -73.599463   NaN   \n",
       "554                           ['cafes']     5.0  45.500785 -73.576235   NaN   \n",
       "228                           ['pizza']     4.0  45.525420 -73.597420   NaN   \n",
       "\n",
       "                                              location         phone  \n",
       "0    ['3895 Boulevard Saint-Laurent', 'Montreal, QC...  1.514842e+10  \n",
       "9    ['994 Rue Rachel E', 'Montreal, QC H2J 2J3', '...  1.514525e+10  \n",
       "10   ['351 Rue Saint-Paul O', 'Montreal, QC H2Y 2A7...  1.514350e+10  \n",
       "11   ['536 Avenue Duluth E', 'Montreal, QC H2L 1A9'...  1.514281e+10  \n",
       "8    ['922 Avenue du Mont-Royal E', 'Montreal, QC H...  1.514524e+10  \n",
       "..                                                 ...           ...  \n",
       "539    ['1455 Rue Peel', 'Montreal, QC H3A', 'Canada']           NaN  \n",
       "281  ['800 Rue de la Gauchetière O', 'Montreal, QC ...  1.514871e+10  \n",
       "543  ['1335 Rue Beaubien E', 'Montreal, QC H2G 1K7'...  1.514419e+10  \n",
       "554  ['2055 Rue Stanley', 'Montreal, QC H3A 1R7', '...  1.514507e+10  \n",
       "228  ['5417 Boulevard Saint-Laurent', 'Montreal, QC...  1.438523e+10  \n",
       "\n",
       "[1000 rows x 11 columns]"
      ],
      "text/html": "<div>\n<style scoped>\n    .dataframe tbody tr th:only-of-type {\n        vertical-align: middle;\n    }\n\n    .dataframe tbody tr th {\n        vertical-align: top;\n    }\n\n    .dataframe thead th {\n        text-align: right;\n    }\n</style>\n<table border=\"1\" class=\"dataframe\">\n  <thead>\n    <tr style=\"text-align: right;\">\n      <th></th>\n      <th>id</th>\n      <th>name</th>\n      <th>url</th>\n      <th>review_count</th>\n      <th>categories</th>\n      <th>rating</th>\n      <th>latitude</th>\n      <th>longitude</th>\n      <th>price</th>\n      <th>location</th>\n      <th>phone</th>\n    </tr>\n  </thead>\n  <tbody>\n    <tr>\n      <th>0</th>\n      <td>0W4lkclzZThpx3V65bVgig</td>\n      <td>Schwartz's</td>\n      <td>https://www.yelp.com/biz/schwartzs-montr%C3%A9...</td>\n      <td>2697</td>\n      <td>['delis', 'sandwiches']</td>\n      <td>4.0</td>\n      <td>45.516353</td>\n      <td>-73.577642</td>\n      <td>$$</td>\n      <td>['3895 Boulevard Saint-Laurent', 'Montreal, QC...</td>\n      <td>1.514842e+10</td>\n    </tr>\n    <tr>\n      <th>9</th>\n      <td>5T6kFKFycym_GkhgOiysIw</td>\n      <td>La Banquise</td>\n      <td>https://www.yelp.com/biz/la-banquise-montr%C3%...</td>\n      <td>1957</td>\n      <td>['poutineries']</td>\n      <td>4.0</td>\n      <td>45.525354</td>\n      <td>-73.574769</td>\n      <td>$$</td>\n      <td>['994 Rue Rachel E', 'Montreal, QC H2J 2J3', '...</td>\n      <td>1.514525e+10</td>\n    </tr>\n    <tr>\n      <th>10</th>\n      <td>46Ld9Qc9nAx_A0jwclNZiw</td>\n      <td>Olive &amp; Gourmando</td>\n      <td>https://www.yelp.com/biz/olive-and-gourmando-m...</td>\n      <td>1401</td>\n      <td>['sandwiches', 'breakfast_brunch']</td>\n      <td>4.5</td>\n      <td>45.501197</td>\n      <td>-73.556475</td>\n      <td>$$</td>\n      <td>['351 Rue Saint-Paul O', 'Montreal, QC H2Y 2A7...</td>\n      <td>1.514350e+10</td>\n    </tr>\n    <tr>\n      <th>11</th>\n      <td>cKdox2gt3L1Dbb7MpOPdWg</td>\n      <td>Au Pied de Cochon</td>\n      <td>https://www.yelp.com/biz/au-pied-de-cochon-mon...</td>\n      <td>1288</td>\n      <td>['newcanadian']</td>\n      <td>4.0</td>\n      <td>45.522169</td>\n      <td>-73.574450</td>\n      <td>$$$</td>\n      <td>['536 Avenue Duluth E', 'Montreal, QC H2L 1A9'...</td>\n      <td>1.514281e+10</td>\n    </tr>\n    <tr>\n      <th>8</th>\n      <td>J6qWt6XIUmIGFHX5rQJA-w</td>\n      <td>L'Avenue</td>\n      <td>https://www.yelp.com/biz/l-avenue-montr%C3%A9al</td>\n      <td>1150</td>\n      <td>['breakfast_brunch']</td>\n      <td>4.5</td>\n      <td>45.526678</td>\n      <td>-73.580239</td>\n      <td>$$</td>\n      <td>['922 Avenue du Mont-Royal E', 'Montreal, QC H...</td>\n      <td>1.514524e+10</td>\n    </tr>\n    <tr>\n      <th>...</th>\n      <td>...</td>\n      <td>...</td>\n      <td>...</td>\n      <td>...</td>\n      <td>...</td>\n      <td>...</td>\n      <td>...</td>\n      <td>...</td>\n      <td>...</td>\n      <td>...</td>\n      <td>...</td>\n    </tr>\n    <tr>\n      <th>539</th>\n      <td>sY0wyjh9-aMXaldNhJrP4w</td>\n      <td>Impac iTaco</td>\n      <td>https://www.yelp.com/biz/impac-itaco-montr%C3%...</td>\n      <td>1</td>\n      <td>['mexican']</td>\n      <td>4.0</td>\n      <td>45.500934</td>\n      <td>-73.573768</td>\n      <td>NaN</td>\n      <td>['1455 Rue Peel', 'Montreal, QC H3A', 'Canada']</td>\n      <td>NaN</td>\n    </tr>\n    <tr>\n      <th>281</th>\n      <td>lo51FO4rKbMFBPKngoUvJw</td>\n      <td>Place Tevere</td>\n      <td>https://www.yelp.com/biz/place-tevere-montr%C3...</td>\n      <td>1</td>\n      <td>['italian']</td>\n      <td>5.0</td>\n      <td>45.499937</td>\n      <td>-73.565486</td>\n      <td>$$</td>\n      <td>['800 Rue de la Gauchetière O', 'Montreal, QC ...</td>\n      <td>1.514871e+10</td>\n    </tr>\n    <tr>\n      <th>543</th>\n      <td>c7B5OHwqAJSu8QZQdLQ-Mg</td>\n      <td>La Belle Tonki</td>\n      <td>https://www.yelp.com/biz/la-belle-tonki-montr%...</td>\n      <td>1</td>\n      <td>['vietnamese']</td>\n      <td>5.0</td>\n      <td>45.540660</td>\n      <td>-73.599463</td>\n      <td>NaN</td>\n      <td>['1335 Rue Beaubien E', 'Montreal, QC H2G 1K7'...</td>\n      <td>1.514419e+10</td>\n    </tr>\n    <tr>\n      <th>554</th>\n      <td>HRvuIWsjuYK6ZptATC2O1A</td>\n      <td>Caffettiera</td>\n      <td>https://www.yelp.com/biz/caffettiera-montr%C3%...</td>\n      <td>1</td>\n      <td>['cafes']</td>\n      <td>5.0</td>\n      <td>45.500785</td>\n      <td>-73.576235</td>\n      <td>NaN</td>\n      <td>['2055 Rue Stanley', 'Montreal, QC H3A 1R7', '...</td>\n      <td>1.514507e+10</td>\n    </tr>\n    <tr>\n      <th>228</th>\n      <td>nchwYJfD3tYup2flK5NhsA</td>\n      <td>Fugazzi Pizza</td>\n      <td>https://www.yelp.com/biz/fugazzi-pizza-montr%C...</td>\n      <td>1</td>\n      <td>['pizza']</td>\n      <td>4.0</td>\n      <td>45.525420</td>\n      <td>-73.597420</td>\n      <td>NaN</td>\n      <td>['5417 Boulevard Saint-Laurent', 'Montreal, QC...</td>\n      <td>1.438523e+10</td>\n    </tr>\n  </tbody>\n</table>\n<p>1000 rows × 11 columns</p>\n</div>"
     },
     "metadata": {},
     "execution_count": 3
    }
   ],
   "source": [
    "#df.to_csv('data/businesses_mtl.csv', index=False)\n",
    "df = pd.read_csv('data/businesses_mtl.csv')\n",
    "df.sort_values(by='review_count', ascending=False)\n",
    "#df"
   ]
  },
  {
   "cell_type": "code",
   "execution_count": 76,
   "metadata": {},
   "outputs": [
    {
     "output_type": "stream",
     "name": "stdout",
     "text": [
      "200\n"
     ]
    }
   ],
   "source": [
    "# request reviews\n",
    "id = df.id.iloc[43]\n",
    "#id = '0W4lkclzZThpx3V65bVgig'\n",
    "url = f'https://api.yelp.com/v3/businesses/{id}/reviews'\n",
    "r2 = requests.get(url, headers=headers, params=params)\n",
    "j2 = json.loads(r2.text)\n",
    "print(r.status_code)\n",
    "#j2['reviews']"
   ]
  },
  {
   "cell_type": "code",
   "execution_count": 96,
   "metadata": {},
   "outputs": [],
   "source": [
    "df2 = pd.DataFrame()\n",
    "cnt = 0\n",
    "\n",
    "# unpack a list of dict\n",
    "def unpack_user(e):\n",
    "    try:\n",
    "        reviews['user_id'] = [ _['id'] for _ in e ]\n",
    "        reviews['profile_url'] = [ _['profile_url'] for _ in e ]\n",
    "        reviews['name'] = [ _['name'] for _ in e ]\n",
    "    except Exception as e:\n",
    "        None\n",
    "\n",
    "\n",
    "while cnt < len(df):\n",
    "    id = df.id.iloc[cnt]\n",
    "    url = f'https://api.yelp.com/v3/businesses/{id}/reviews'\n",
    "    r2 = requests.get(url, headers=headers)\n",
    "    j2 = json.loads(r2.text)\n",
    "    try:\n",
    "        c = j2['reviews']\n",
    "    except Exception as e:\n",
    "        None\n",
    "        \n",
    "    reviews = {}\n",
    "    reviews['biz_id'] = id\n",
    "    reviews['rev_id'] = [ catch(lambda : e['id']) for e in c ]\n",
    "    reviews['time'] = [ catch(lambda : e['time_created']) for e in c ]\n",
    "    #reviews['user'] = [ unpack_user(e['user']) for e in c ]\n",
    "    reviews['user'] = [ catch(lambda : e['user']) for e in c ]\n",
    "    reviews['rating'] = [ catch(lambda : e['rating']) for e in c ]\n",
    "    reviews['text'] = [ catch(lambda : e['text']) for e in c ]\n",
    "\n",
    "    cnt += 1\n",
    "    #print(cnt)\n",
    "    df2 = pd.concat([df2, pd.DataFrame.from_dict(reviews)])"
   ]
  },
  {
   "cell_type": "code",
   "execution_count": 93,
   "metadata": {},
   "outputs": [
    {
     "output_type": "execute_result",
     "data": {
      "text/plain": [
       "                     biz_id                  rev_id                 time  \\\n",
       "0    NSbVtd0lzORHV7NaubG9Pg  TcdfECBle3S20RhgDvd4dw  2020-08-30 11:30:46   \n",
       "1    NSbVtd0lzORHV7NaubG9Pg  gP5Hs0dmH9HEv9DxipFcIQ  2019-12-26 17:55:39   \n",
       "2    NSbVtd0lzORHV7NaubG9Pg  oWW-kowodWpy-wTlJ3p_2Q  2020-09-26 21:38:47   \n",
       "3    uxrvc9CYDJhDUqiXNVWmww  EEQ3bS3BanteVdz9By9JnQ  2020-09-28 16:19:00   \n",
       "4    uxrvc9CYDJhDUqiXNVWmww  vFCcwUTX6tPhUobaMjK1LQ  2019-07-25 18:27:39   \n",
       "..                      ...                     ...                  ...   \n",
       "443  ZSDEj6mscdZdt9CwoZo7yQ  1zcMktxqGte2w7zNudXXaA  2020-08-21 16:03:29   \n",
       "444  ZSDEj6mscdZdt9CwoZo7yQ  UP0ioWEQWOgBpP4FcytF4g  2019-08-20 07:41:52   \n",
       "445  S0aQB-OoruhnU5vj93c2MQ  YVGb9OMqN6P9_sQ3dmyIZw  2020-08-26 19:02:15   \n",
       "446  S0aQB-OoruhnU5vj93c2MQ  TdBYEX8pDAWH81UGkob-yQ  2020-09-13 14:42:44   \n",
       "447  S0aQB-OoruhnU5vj93c2MQ  Rdxc3qwu-5Bz7zPvfBzveQ  2020-01-21 08:24:13   \n",
       "\n",
       "                                                  user  rating  \\\n",
       "0    {'id': '50DaCXl1VqnOrXwCH9oAdA', 'profile_url'...     5.0   \n",
       "1    {'id': 'TejIW9rZaH6tWmKGSXP9nw', 'profile_url'...     5.0   \n",
       "2    {'id': 'JpVRcAZDdhCHogeA8bJx8A', 'profile_url'...     5.0   \n",
       "3    {'id': 'HV6pgnVdongJWet-dUjSpQ', 'profile_url'...     5.0   \n",
       "4    {'id': 'HjyML4u5LCKXMrzx_FQPKw', 'profile_url'...     5.0   \n",
       "..                                                 ...     ...   \n",
       "443  {'id': 'KmoSLOLefVNbJVsJQY8j-w', 'profile_url'...     5.0   \n",
       "444  {'id': 'E8YsbKVW0DtJPsrP9Wvszg', 'profile_url'...     4.0   \n",
       "445  {'id': 'fjFYpwpvlIlqoiNa3myDEA', 'profile_url'...     4.0   \n",
       "446  {'id': 'TfLxu0ByOBszcPxcLBRGpQ', 'profile_url'...     2.0   \n",
       "447  {'id': 'bem_6rw8DbEPUdFktNN4Jg', 'profile_url'...     5.0   \n",
       "\n",
       "                                                  text  \n",
       "0    Pre-COVID visit, now I'm just writing reviews ...  \n",
       "1    Came here because my bf wanted some exotic foo...  \n",
       "2    A must go for Quebecois food! Delicious Pate C...  \n",
       "3    Really unique and solid experience. Coming fro...  \n",
       "4    It's true only 2 seatings each evening. They f...  \n",
       "..                                                 ...  \n",
       "443  This is probably the best vegan restaurant I'v...  \n",
       "444  Very good bimibap was a nice break from the ch...  \n",
       "445  Went there a couple of times, to try different...  \n",
       "446  We were shocked to discover how bad this crepe...  \n",
       "447  My first time ever having a crepe! This was th...  \n",
       "\n",
       "[448 rows x 6 columns]"
      ],
      "text/html": "<div>\n<style scoped>\n    .dataframe tbody tr th:only-of-type {\n        vertical-align: middle;\n    }\n\n    .dataframe tbody tr th {\n        vertical-align: top;\n    }\n\n    .dataframe thead th {\n        text-align: right;\n    }\n</style>\n<table border=\"1\" class=\"dataframe\">\n  <thead>\n    <tr style=\"text-align: right;\">\n      <th></th>\n      <th>biz_id</th>\n      <th>rev_id</th>\n      <th>time</th>\n      <th>user</th>\n      <th>rating</th>\n      <th>text</th>\n    </tr>\n  </thead>\n  <tbody>\n    <tr>\n      <th>0</th>\n      <td>NSbVtd0lzORHV7NaubG9Pg</td>\n      <td>TcdfECBle3S20RhgDvd4dw</td>\n      <td>2020-08-30 11:30:46</td>\n      <td>{'id': '50DaCXl1VqnOrXwCH9oAdA', 'profile_url'...</td>\n      <td>5.0</td>\n      <td>Pre-COVID visit, now I'm just writing reviews ...</td>\n    </tr>\n    <tr>\n      <th>1</th>\n      <td>NSbVtd0lzORHV7NaubG9Pg</td>\n      <td>gP5Hs0dmH9HEv9DxipFcIQ</td>\n      <td>2019-12-26 17:55:39</td>\n      <td>{'id': 'TejIW9rZaH6tWmKGSXP9nw', 'profile_url'...</td>\n      <td>5.0</td>\n      <td>Came here because my bf wanted some exotic foo...</td>\n    </tr>\n    <tr>\n      <th>2</th>\n      <td>NSbVtd0lzORHV7NaubG9Pg</td>\n      <td>oWW-kowodWpy-wTlJ3p_2Q</td>\n      <td>2020-09-26 21:38:47</td>\n      <td>{'id': 'JpVRcAZDdhCHogeA8bJx8A', 'profile_url'...</td>\n      <td>5.0</td>\n      <td>A must go for Quebecois food! Delicious Pate C...</td>\n    </tr>\n    <tr>\n      <th>3</th>\n      <td>uxrvc9CYDJhDUqiXNVWmww</td>\n      <td>EEQ3bS3BanteVdz9By9JnQ</td>\n      <td>2020-09-28 16:19:00</td>\n      <td>{'id': 'HV6pgnVdongJWet-dUjSpQ', 'profile_url'...</td>\n      <td>5.0</td>\n      <td>Really unique and solid experience. Coming fro...</td>\n    </tr>\n    <tr>\n      <th>4</th>\n      <td>uxrvc9CYDJhDUqiXNVWmww</td>\n      <td>vFCcwUTX6tPhUobaMjK1LQ</td>\n      <td>2019-07-25 18:27:39</td>\n      <td>{'id': 'HjyML4u5LCKXMrzx_FQPKw', 'profile_url'...</td>\n      <td>5.0</td>\n      <td>It's true only 2 seatings each evening. They f...</td>\n    </tr>\n    <tr>\n      <th>...</th>\n      <td>...</td>\n      <td>...</td>\n      <td>...</td>\n      <td>...</td>\n      <td>...</td>\n      <td>...</td>\n    </tr>\n    <tr>\n      <th>443</th>\n      <td>ZSDEj6mscdZdt9CwoZo7yQ</td>\n      <td>1zcMktxqGte2w7zNudXXaA</td>\n      <td>2020-08-21 16:03:29</td>\n      <td>{'id': 'KmoSLOLefVNbJVsJQY8j-w', 'profile_url'...</td>\n      <td>5.0</td>\n      <td>This is probably the best vegan restaurant I'v...</td>\n    </tr>\n    <tr>\n      <th>444</th>\n      <td>ZSDEj6mscdZdt9CwoZo7yQ</td>\n      <td>UP0ioWEQWOgBpP4FcytF4g</td>\n      <td>2019-08-20 07:41:52</td>\n      <td>{'id': 'E8YsbKVW0DtJPsrP9Wvszg', 'profile_url'...</td>\n      <td>4.0</td>\n      <td>Very good bimibap was a nice break from the ch...</td>\n    </tr>\n    <tr>\n      <th>445</th>\n      <td>S0aQB-OoruhnU5vj93c2MQ</td>\n      <td>YVGb9OMqN6P9_sQ3dmyIZw</td>\n      <td>2020-08-26 19:02:15</td>\n      <td>{'id': 'fjFYpwpvlIlqoiNa3myDEA', 'profile_url'...</td>\n      <td>4.0</td>\n      <td>Went there a couple of times, to try different...</td>\n    </tr>\n    <tr>\n      <th>446</th>\n      <td>S0aQB-OoruhnU5vj93c2MQ</td>\n      <td>TdBYEX8pDAWH81UGkob-yQ</td>\n      <td>2020-09-13 14:42:44</td>\n      <td>{'id': 'TfLxu0ByOBszcPxcLBRGpQ', 'profile_url'...</td>\n      <td>2.0</td>\n      <td>We were shocked to discover how bad this crepe...</td>\n    </tr>\n    <tr>\n      <th>447</th>\n      <td>S0aQB-OoruhnU5vj93c2MQ</td>\n      <td>Rdxc3qwu-5Bz7zPvfBzveQ</td>\n      <td>2020-01-21 08:24:13</td>\n      <td>{'id': 'bem_6rw8DbEPUdFktNN4Jg', 'profile_url'...</td>\n      <td>5.0</td>\n      <td>My first time ever having a crepe! This was th...</td>\n    </tr>\n  </tbody>\n</table>\n<p>448 rows × 6 columns</p>\n</div>"
     },
     "metadata": {},
     "execution_count": 93
    }
   ],
   "source": [
    "df2"
   ]
  },
  {
   "cell_type": "code",
   "execution_count": 94,
   "metadata": {},
   "outputs": [],
   "source": [
    "df2 = df2.reset_index(drop=True)\n",
    "#df2.to_csv('data/reviews_mtl.csv', index=False)\n",
    "#df2 = pd.read_csv('data/reviews_mtl.csv')\n",
    "#df2.sort_values(by='rating')"
   ]
  },
  {
   "cell_type": "code",
   "execution_count": null,
   "metadata": {},
   "outputs": [],
   "source": [
    "# theses reviews are only an exerpt of the full text so I guess I have to scrape everything"
   ]
  }
 ]
}