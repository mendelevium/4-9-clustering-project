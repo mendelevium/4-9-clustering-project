{
 "nbformat": 4,
 "nbformat_minor": 2,
 "metadata": {
  "language_info": {
   "name": "python",
   "codemirror_mode": {
    "name": "ipython",
    "version": 3
   },
   "version": "3.8.3-final"
  },
  "orig_nbformat": 2,
  "file_extension": ".py",
  "mimetype": "text/x-python",
  "name": "python",
  "npconvert_exporter": "python",
  "pygments_lexer": "ipython3",
  "version": 3,
  "kernelspec": {
   "name": "python3",
   "display_name": "Python 3",
   "language": "python"
  }
 },
 "cells": [
  {
   "source": [
    "## Scraping"
   ],
   "cell_type": "markdown",
   "metadata": {}
  },
  {
   "cell_type": "code",
   "execution_count": 1,
   "metadata": {},
   "outputs": [],
   "source": [
    "import requests\n",
    "import json\n",
    "import pandas as pd\n",
    "import numpy as np\n",
    "from bs4 import BeautifulSoup\n",
    "import re\n",
    "import time\n",
    "import random as ran\n",
    "from selenium import webdriver"
   ]
  },
  {
   "cell_type": "code",
   "execution_count": 2,
   "metadata": {},
   "outputs": [],
   "source": [
    "def get_reviews(r):\n",
    "    reviews = {}\n",
    "    try:\n",
    "        reviews['user_name'] = r.select('[class*=css-166la90]')[0].get_text() \n",
    "        reviews['user_url'] = r.select('[class*=css-166la90]')[0]['href']\n",
    "        reviews['user_city'] = r.select('[class*=css-n6i4z7]')[0].get_text() \n",
    "        reviews['user_rating'] = r.select('[aria-label*=rating]')[0]['aria-label']\n",
    "        reviews['user_review'] = r.select('[class*=raw__]')[0].get_text().strip()\n",
    "    except:\n",
    "        reviews['user_name'] = np.nan\n",
    "        reviews['user_url'] = np.nan\n",
    "        reviews['user_city'] = np.nan\n",
    "        reviews['user_rating'] = np.nan\n",
    "        reviews['user_review'] = np.nan\n",
    "    return reviews"
   ]
  },
  {
   "cell_type": "code",
   "execution_count": 3,
   "metadata": {
    "tags": []
   },
   "outputs": [],
   "source": [
    "def get_biz(biz_url):\n",
    "    df = pd.DataFrame()\n",
    "    p = 0\n",
    "\n",
    "    #biz_url = 'https://www.yelp.com/biz/damas-montr%C3%A9al'\n",
    "    driver = webdriver.Chrome('chromedriver')\n",
    "    driver.get(biz_url)\n",
    "    time.sleep(ran.randint(2, 5))\n",
    "    page = driver.page_source\n",
    "    soup = BeautifulSoup(page, 'html.parser')\n",
    "    revs = soup.select('[class*=review__]') \n",
    "\n",
    "    # Get reviews from a restaurant\n",
    "    while revs != []: \n",
    "\n",
    "        for r in revs:\n",
    "            gr = get_reviews(r)\n",
    "            #print(gr)\n",
    "            df = pd.concat([df, pd.DataFrame.from_records(gr, index=[0])])\n",
    "\n",
    "        p += 20\n",
    "        url = f'{biz_url}?start={p}'\n",
    "        \n",
    "        driver.get(url)\n",
    "        time.sleep(ran.randint(3, 5))\n",
    "        page = driver.page_source\n",
    "        soup = BeautifulSoup(page, 'html.parser')\n",
    "        revs = soup.select('[class*=review__]') \n",
    "\n",
    "\n",
    "    time.sleep(ran.randint(0, 10))\n",
    "    driver.quit()\n",
    "    return df"
   ]
  },
  {
   "cell_type": "code",
   "execution_count": null,
   "metadata": {},
   "outputs": [],
   "source": [
    "cnt = 0\n",
    "biz = pd.read_csv('data/businesses_mtl.csv')\n",
    "\n",
    "# This will output a csv file for each restaurant\n",
    "for b in biz.url[0:]:\n",
    "\n",
    "    dx = get_biz(b)\n",
    "    dx = dx.reset_index(drop=True)\n",
    "    dx = dx[['user_url', 'user_name', 'user_city', 'user_rating', 'user_review']]\n",
    "    cnt +=1\n",
    "    dx.to_csv('data/raw/' + str(cnt) + '_biz_reviews.csv', index=False)"
   ]
  },
  {
   "cell_type": "code",
   "execution_count": null,
   "metadata": {},
   "outputs": [],
   "source": []
  },
  {
   "cell_type": "code",
   "execution_count": null,
   "metadata": {},
   "outputs": [],
   "source": [
    "### Testing code ###\n",
    "'''\n",
    "p = 20\n",
    "df = pd.DataFrame()\n",
    "biz_url = 'https://www.yelp.com/biz/damas-montr%C3%A9al'\n",
    "\n",
    "url = f'{biz_url}?start={p}'\n",
    "driver = webdriver.Chrome('chromedriver')\n",
    "driver.get(url)\n",
    "page = driver.page_source\n",
    "soup = BeautifulSoup(page, 'html.parser')\n",
    "revs = soup.select('[class*=review__]')\n",
    "#driver.quit()\n",
    "\n",
    "for r in revs:\n",
    "    reviews = {}\n",
    "    reviews['user_name'] = r.select('[class*=css-166la90]')[0].get_text()\n",
    "    reviews['user_url'] = r.select('[class*=css-166la90]')[0]['href']\n",
    "    reviews['user_city'] = r.select('[class*=css-n6i4z7]')[0].get_text()\n",
    "    reviews['user_rating'] = r.select('[aria-label*=rating]')[0]['aria-label']\n",
    "    reviews['review'] = r.select('[class*=raw__]')[0].get_text().strip()\n",
    "    df = pd.concat([df, pd.DataFrame.from_records(reviews, index=[0])])\n",
    "df\n",
    "'''"
   ]
  },
  {
   "cell_type": "code",
   "execution_count": null,
   "metadata": {},
   "outputs": [],
   "source": []
  }
 ]
}